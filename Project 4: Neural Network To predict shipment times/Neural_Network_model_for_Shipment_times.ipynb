{
 "cells": [
  {
   "cell_type": "markdown",
   "id": "74572e3f-9f0e-4c2e-8e76-f50701f77409",
   "metadata": {},
   "source": [
    "## Project 4: Neural Network with TensorFlow\n",
    "\n",
    "**Objective:**\n",
    "\n",
    "Build a neural network to predict shipment times.\n",
    "\n",
    "**Instructions**\n",
    "1. Define a neural network architecture.\n",
    "2. Train the neural network.\n",
    "3. Evaluate the model's performance."
   ]
  },
  {
   "cell_type": "markdown",
   "id": "cd23974f-0098-40c5-9c03-1c134f7bb7e7",
   "metadata": {},
   "source": [
    "## Import the necessary labraries and frameworks."
   ]
  },
  {
   "cell_type": "code",
   "execution_count": 3,
   "id": "f6fbc744-89da-4832-a91c-094dcad784dc",
   "metadata": {},
   "outputs": [],
   "source": [
    "import pandas as pd\n",
    "import numpy as np\n",
    "from sklearn.model_selection import train_test_split\n",
    "from sklearn.metrics import mean_squared_error\n",
    "from sklearn.preprocessing import StandardScaler\n",
    "\n",
    "import torch\n",
    "import torch.nn as nn\n",
    "import torch.optim as optim\n",
    "import tensorflow as tf\n",
    "from tensorflow.keras.models import  Sequential\n",
    "from tensorflow.keras.layers import Dense\n",
    "from tensorflow.keras import Input\n",
    "\n",
    "import random"
   ]
  },
  {
   "cell_type": "markdown",
   "id": "4c4aba7f-8346-48f1-bfc3-51dda6246b32",
   "metadata": {},
   "source": [
    "## Set seeds for reproducibility"
   ]
  },
  {
   "cell_type": "code",
   "execution_count": 5,
   "id": "c6ca57b8-b021-4a33-a679-1f0087411de6",
   "metadata": {},
   "outputs": [],
   "source": [
    "# 1. Python built-in RNG\n",
    "random.seed(30)\n",
    "\n",
    "# 2. NumPy RNG\n",
    "np.random.seed(30)\n",
    "\n",
    "# 3. PyTorch CPU RNG\n",
    "torch.manual_seed(30)\n",
    "\n",
    "# 4. PyTorch GPU RNG (if using CUDA)\n",
    "torch.cuda.manual_seed_all(30)\n",
    "\n",
    "# 5. Force deterministic CUDA (optional, may slow you down)\n",
    "torch.use_deterministic_algorithms(True)\n",
    "torch.backends.cudnn.deterministic = True\n",
    "torch.backends.cudnn.benchmark = False"
   ]
  },
  {
   "cell_type": "markdown",
   "id": "d59c41ac-9e07-4d8e-a7eb-e3262e6a7d68",
   "metadata": {},
   "source": [
    "# Read the CSV file."
   ]
  },
  {
   "cell_type": "code",
   "execution_count": 7,
   "id": "cc7a2538-4fc3-40e1-a31e-cf4fa0c03353",
   "metadata": {},
   "outputs": [],
   "source": [
    "shipment_df = pd.read_csv('shipment_df.csv')"
   ]
  },
  {
   "cell_type": "markdown",
   "id": "9b6772cc-fead-455a-90bf-1c03c73adc63",
   "metadata": {},
   "source": [
    "## Encoding Categorical Columns for Model Ingestion."
   ]
  },
  {
   "cell_type": "code",
   "execution_count": 9,
   "id": "cdf1713a-d224-43c1-92f1-4161052389ae",
   "metadata": {},
   "outputs": [],
   "source": [
    "shipment_df = pd.get_dummies(shipment_df, columns=['transportation_modes', 'location', 'routes'], drop_first=True).astype('int64')"
   ]
  },
  {
   "cell_type": "markdown",
   "id": "184b92ed-ba90-4e53-9e48-3a31a2033368",
   "metadata": {},
   "source": [
    "## Feature Engineering\n",
    "#### Normalize numerical features"
   ]
  },
  {
   "cell_type": "code",
   "execution_count": 11,
   "id": "3726be89-add2-49dc-ad3d-417264cbc702",
   "metadata": {},
   "outputs": [],
   "source": [
    "# 1) Identify your target(s) and features\n",
    "shipmenty = 'shipping_times'\n",
    "shipmentX = shipment_df.drop(columns=[shipmenty])\n",
    "\n",
    "# 2) Select only the numeric columns in the features\n",
    "num_cols = shipmentX.select_dtypes(include=['int64', 'float64']).columns\n",
    "#    (this will pick up your distance, count, and one-hot dummy columns too)\n",
    "\n",
    "# 3) Fit & transform only those numeric columns\n",
    "scaler = StandardScaler()\n",
    "shipmentX[num_cols] = scaler.fit_transform(shipmentX[num_cols])\n",
    "\n",
    "shipmentX_scaled = shipmentX\n",
    "shipmenty = shipment_df[shipmenty]"
   ]
  },
  {
   "cell_type": "markdown",
   "id": "e21ffed2-28f9-4104-b251-cd6d2feadfd5",
   "metadata": {},
   "source": [
    "## Model training"
   ]
  },
  {
   "cell_type": "markdown",
   "id": "63e7b569-694f-4cbd-9a76-f0eb6b4a1ad0",
   "metadata": {},
   "source": [
    "# Train a deep learning model with tensorflow."
   ]
  },
  {
   "cell_type": "markdown",
   "id": "9056056c-4b5d-4c25-971e-225140b65fd9",
   "metadata": {},
   "source": [
    "## Split the dataset"
   ]
  },
  {
   "cell_type": "code",
   "execution_count": 15,
   "id": "9eb696f2-ee88-453a-be1f-242278f1e15c",
   "metadata": {},
   "outputs": [],
   "source": [
    "shipmentX_train, shipmentX_test, shipmenty_train, shipmenty_test = train_test_split(shipmentX_scaled, shipmenty, test_size=0.25, random_state=30)"
   ]
  },
  {
   "cell_type": "markdown",
   "id": "5cee6ae1-cab6-4e74-90d4-b16bdc543bc2",
   "metadata": {},
   "source": [
    "## Define the neural network model"
   ]
  },
  {
   "cell_type": "code",
   "execution_count": 17,
   "id": "6c9dfa77-a5dc-4530-9485-76743a7a6faf",
   "metadata": {},
   "outputs": [],
   "source": [
    "\n",
    "shipment_nn_model = Sequential([\n",
    "    Input(shape=(shipmentX_train.shape[1],)), \n",
    "    Dense(64, activation='relu'),\n",
    "    Dense(32, activation='relu'),\n",
    "    Dense(1)\n",
    "])"
   ]
  },
  {
   "cell_type": "markdown",
   "id": "77a35bb5-f6a0-48ac-a357-b074beec1873",
   "metadata": {},
   "source": [
    "# Compile and Train the model"
   ]
  },
  {
   "cell_type": "code",
   "execution_count": 19,
   "id": "8d7d3a2d-aff6-42e7-b83a-ad3d7d3092d1",
   "metadata": {},
   "outputs": [
    {
     "name": "stdout",
     "output_type": "stream",
     "text": [
      "Epoch 1/50\n",
      "\u001b[1m469/469\u001b[0m \u001b[32m━━━━━━━━━━━━━━━━━━━━\u001b[0m\u001b[37m\u001b[0m \u001b[1m3s\u001b[0m 3ms/step - loss: 3.2066 - val_loss: 0.3254\n",
      "Epoch 2/50\n",
      "\u001b[1m469/469\u001b[0m \u001b[32m━━━━━━━━━━━━━━━━━━━━\u001b[0m\u001b[37m\u001b[0m \u001b[1m1s\u001b[0m 2ms/step - loss: 0.3162 - val_loss: 0.2921\n",
      "Epoch 3/50\n",
      "\u001b[1m469/469\u001b[0m \u001b[32m━━━━━━━━━━━━━━━━━━━━\u001b[0m\u001b[37m\u001b[0m \u001b[1m1s\u001b[0m 2ms/step - loss: 0.2944 - val_loss: 0.2876\n",
      "Epoch 4/50\n",
      "\u001b[1m469/469\u001b[0m \u001b[32m━━━━━━━━━━━━━━━━━━━━\u001b[0m\u001b[37m\u001b[0m \u001b[1m1s\u001b[0m 2ms/step - loss: 0.2871 - val_loss: 0.2817\n",
      "Epoch 5/50\n",
      "\u001b[1m469/469\u001b[0m \u001b[32m━━━━━━━━━━━━━━━━━━━━\u001b[0m\u001b[37m\u001b[0m \u001b[1m1s\u001b[0m 3ms/step - loss: 0.2862 - val_loss: 0.2828\n",
      "Epoch 6/50\n",
      "\u001b[1m469/469\u001b[0m \u001b[32m━━━━━━━━━━━━━━━━━━━━\u001b[0m\u001b[37m\u001b[0m \u001b[1m1s\u001b[0m 3ms/step - loss: 0.2803 - val_loss: 0.2837\n",
      "Epoch 7/50\n",
      "\u001b[1m469/469\u001b[0m \u001b[32m━━━━━━━━━━━━━━━━━━━━\u001b[0m\u001b[37m\u001b[0m \u001b[1m1s\u001b[0m 3ms/step - loss: 0.2798 - val_loss: 0.2836\n",
      "Epoch 8/50\n",
      "\u001b[1m469/469\u001b[0m \u001b[32m━━━━━━━━━━━━━━━━━━━━\u001b[0m\u001b[37m\u001b[0m \u001b[1m1s\u001b[0m 3ms/step - loss: 0.2822 - val_loss: 0.2779\n",
      "Epoch 9/50\n",
      "\u001b[1m469/469\u001b[0m \u001b[32m━━━━━━━━━━━━━━━━━━━━\u001b[0m\u001b[37m\u001b[0m \u001b[1m1s\u001b[0m 3ms/step - loss: 0.2792 - val_loss: 0.2906\n",
      "Epoch 10/50\n",
      "\u001b[1m469/469\u001b[0m \u001b[32m━━━━━━━━━━━━━━━━━━━━\u001b[0m\u001b[37m\u001b[0m \u001b[1m1s\u001b[0m 3ms/step - loss: 0.2810 - val_loss: 0.2861\n",
      "Epoch 11/50\n",
      "\u001b[1m469/469\u001b[0m \u001b[32m━━━━━━━━━━━━━━━━━━━━\u001b[0m\u001b[37m\u001b[0m \u001b[1m1s\u001b[0m 3ms/step - loss: 0.2789 - val_loss: 0.2833\n",
      "Epoch 12/50\n",
      "\u001b[1m469/469\u001b[0m \u001b[32m━━━━━━━━━━━━━━━━━━━━\u001b[0m\u001b[37m\u001b[0m \u001b[1m1s\u001b[0m 3ms/step - loss: 0.2789 - val_loss: 0.2855\n",
      "Epoch 13/50\n",
      "\u001b[1m469/469\u001b[0m \u001b[32m━━━━━━━━━━━━━━━━━━━━\u001b[0m\u001b[37m\u001b[0m \u001b[1m1s\u001b[0m 3ms/step - loss: 0.2765 - val_loss: 0.2765\n",
      "Epoch 14/50\n",
      "\u001b[1m469/469\u001b[0m \u001b[32m━━━━━━━━━━━━━━━━━━━━\u001b[0m\u001b[37m\u001b[0m \u001b[1m1s\u001b[0m 3ms/step - loss: 0.2740 - val_loss: 0.2785\n",
      "Epoch 15/50\n",
      "\u001b[1m469/469\u001b[0m \u001b[32m━━━━━━━━━━━━━━━━━━━━\u001b[0m\u001b[37m\u001b[0m \u001b[1m1s\u001b[0m 2ms/step - loss: 0.2784 - val_loss: 0.2899\n",
      "Epoch 16/50\n",
      "\u001b[1m469/469\u001b[0m \u001b[32m━━━━━━━━━━━━━━━━━━━━\u001b[0m\u001b[37m\u001b[0m \u001b[1m1s\u001b[0m 2ms/step - loss: 0.2756 - val_loss: 0.2803\n",
      "Epoch 17/50\n",
      "\u001b[1m469/469\u001b[0m \u001b[32m━━━━━━━━━━━━━━━━━━━━\u001b[0m\u001b[37m\u001b[0m \u001b[1m2s\u001b[0m 3ms/step - loss: 0.2742 - val_loss: 0.2769\n",
      "Epoch 18/50\n",
      "\u001b[1m469/469\u001b[0m \u001b[32m━━━━━━━━━━━━━━━━━━━━\u001b[0m\u001b[37m\u001b[0m \u001b[1m1s\u001b[0m 3ms/step - loss: 0.2766 - val_loss: 0.2770\n",
      "Epoch 19/50\n",
      "\u001b[1m469/469\u001b[0m \u001b[32m━━━━━━━━━━━━━━━━━━━━\u001b[0m\u001b[37m\u001b[0m \u001b[1m1s\u001b[0m 3ms/step - loss: 0.2773 - val_loss: 0.2733\n",
      "Epoch 20/50\n",
      "\u001b[1m469/469\u001b[0m \u001b[32m━━━━━━━━━━━━━━━━━━━━\u001b[0m\u001b[37m\u001b[0m \u001b[1m1s\u001b[0m 3ms/step - loss: 0.2731 - val_loss: 0.2738\n",
      "Epoch 21/50\n",
      "\u001b[1m469/469\u001b[0m \u001b[32m━━━━━━━━━━━━━━━━━━━━\u001b[0m\u001b[37m\u001b[0m \u001b[1m1s\u001b[0m 3ms/step - loss: 0.2746 - val_loss: 0.2817\n",
      "Epoch 22/50\n",
      "\u001b[1m469/469\u001b[0m \u001b[32m━━━━━━━━━━━━━━━━━━━━\u001b[0m\u001b[37m\u001b[0m \u001b[1m1s\u001b[0m 3ms/step - loss: 0.2729 - val_loss: 0.2767\n",
      "Epoch 23/50\n",
      "\u001b[1m469/469\u001b[0m \u001b[32m━━━━━━━━━━━━━━━━━━━━\u001b[0m\u001b[37m\u001b[0m \u001b[1m1s\u001b[0m 3ms/step - loss: 0.2725 - val_loss: 0.2771\n",
      "Epoch 24/50\n",
      "\u001b[1m469/469\u001b[0m \u001b[32m━━━━━━━━━━━━━━━━━━━━\u001b[0m\u001b[37m\u001b[0m \u001b[1m1s\u001b[0m 3ms/step - loss: 0.2727 - val_loss: 0.2815\n",
      "Epoch 25/50\n",
      "\u001b[1m469/469\u001b[0m \u001b[32m━━━━━━━━━━━━━━━━━━━━\u001b[0m\u001b[37m\u001b[0m \u001b[1m1s\u001b[0m 2ms/step - loss: 0.2741 - val_loss: 0.2806\n",
      "Epoch 26/50\n",
      "\u001b[1m469/469\u001b[0m \u001b[32m━━━━━━━━━━━━━━━━━━━━\u001b[0m\u001b[37m\u001b[0m \u001b[1m1s\u001b[0m 2ms/step - loss: 0.2726 - val_loss: 0.2787\n",
      "Epoch 27/50\n",
      "\u001b[1m469/469\u001b[0m \u001b[32m━━━━━━━━━━━━━━━━━━━━\u001b[0m\u001b[37m\u001b[0m \u001b[1m1s\u001b[0m 3ms/step - loss: 0.2742 - val_loss: 0.2784\n",
      "Epoch 28/50\n",
      "\u001b[1m469/469\u001b[0m \u001b[32m━━━━━━━━━━━━━━━━━━━━\u001b[0m\u001b[37m\u001b[0m \u001b[1m1s\u001b[0m 3ms/step - loss: 0.2713 - val_loss: 0.2850\n",
      "Epoch 29/50\n",
      "\u001b[1m469/469\u001b[0m \u001b[32m━━━━━━━━━━━━━━━━━━━━\u001b[0m\u001b[37m\u001b[0m \u001b[1m1s\u001b[0m 3ms/step - loss: 0.2736 - val_loss: 0.2757\n",
      "Epoch 30/50\n",
      "\u001b[1m469/469\u001b[0m \u001b[32m━━━━━━━━━━━━━━━━━━━━\u001b[0m\u001b[37m\u001b[0m \u001b[1m2s\u001b[0m 4ms/step - loss: 0.2743 - val_loss: 0.2731\n",
      "Epoch 31/50\n",
      "\u001b[1m469/469\u001b[0m \u001b[32m━━━━━━━━━━━━━━━━━━━━\u001b[0m\u001b[37m\u001b[0m \u001b[1m3s\u001b[0m 4ms/step - loss: 0.2683 - val_loss: 0.2755\n",
      "Epoch 32/50\n",
      "\u001b[1m469/469\u001b[0m \u001b[32m━━━━━━━━━━━━━━━━━━━━\u001b[0m\u001b[37m\u001b[0m \u001b[1m1s\u001b[0m 3ms/step - loss: 0.2703 - val_loss: 0.2786\n",
      "Epoch 33/50\n",
      "\u001b[1m469/469\u001b[0m \u001b[32m━━━━━━━━━━━━━━━━━━━━\u001b[0m\u001b[37m\u001b[0m \u001b[1m2s\u001b[0m 3ms/step - loss: 0.2711 - val_loss: 0.2731\n",
      "Epoch 34/50\n",
      "\u001b[1m469/469\u001b[0m \u001b[32m━━━━━━━━━━━━━━━━━━━━\u001b[0m\u001b[37m\u001b[0m \u001b[1m1s\u001b[0m 3ms/step - loss: 0.2709 - val_loss: 0.2735\n",
      "Epoch 35/50\n",
      "\u001b[1m469/469\u001b[0m \u001b[32m━━━━━━━━━━━━━━━━━━━━\u001b[0m\u001b[37m\u001b[0m \u001b[1m1s\u001b[0m 3ms/step - loss: 0.2704 - val_loss: 0.2736\n",
      "Epoch 36/50\n",
      "\u001b[1m469/469\u001b[0m \u001b[32m━━━━━━━━━━━━━━━━━━━━\u001b[0m\u001b[37m\u001b[0m \u001b[1m1s\u001b[0m 2ms/step - loss: 0.2678 - val_loss: 0.2805\n",
      "Epoch 37/50\n",
      "\u001b[1m469/469\u001b[0m \u001b[32m━━━━━━━━━━━━━━━━━━━━\u001b[0m\u001b[37m\u001b[0m \u001b[1m1s\u001b[0m 3ms/step - loss: 0.2702 - val_loss: 0.2812\n",
      "Epoch 38/50\n",
      "\u001b[1m469/469\u001b[0m \u001b[32m━━━━━━━━━━━━━━━━━━━━\u001b[0m\u001b[37m\u001b[0m \u001b[1m1s\u001b[0m 3ms/step - loss: 0.2677 - val_loss: 0.2743\n",
      "Epoch 39/50\n",
      "\u001b[1m469/469\u001b[0m \u001b[32m━━━━━━━━━━━━━━━━━━━━\u001b[0m\u001b[37m\u001b[0m \u001b[1m1s\u001b[0m 2ms/step - loss: 0.2683 - val_loss: 0.2733\n",
      "Epoch 40/50\n",
      "\u001b[1m469/469\u001b[0m \u001b[32m━━━━━━━━━━━━━━━━━━━━\u001b[0m\u001b[37m\u001b[0m \u001b[1m1s\u001b[0m 2ms/step - loss: 0.2736 - val_loss: 0.2851\n",
      "Epoch 41/50\n",
      "\u001b[1m469/469\u001b[0m \u001b[32m━━━━━━━━━━━━━━━━━━━━\u001b[0m\u001b[37m\u001b[0m \u001b[1m1s\u001b[0m 3ms/step - loss: 0.2698 - val_loss: 0.2738\n",
      "Epoch 42/50\n",
      "\u001b[1m469/469\u001b[0m \u001b[32m━━━━━━━━━━━━━━━━━━━━\u001b[0m\u001b[37m\u001b[0m \u001b[1m1s\u001b[0m 3ms/step - loss: 0.2682 - val_loss: 0.2794\n",
      "Epoch 43/50\n",
      "\u001b[1m469/469\u001b[0m \u001b[32m━━━━━━━━━━━━━━━━━━━━\u001b[0m\u001b[37m\u001b[0m \u001b[1m1s\u001b[0m 3ms/step - loss: 0.2704 - val_loss: 0.2766\n",
      "Epoch 44/50\n",
      "\u001b[1m469/469\u001b[0m \u001b[32m━━━━━━━━━━━━━━━━━━━━\u001b[0m\u001b[37m\u001b[0m \u001b[1m1s\u001b[0m 2ms/step - loss: 0.2652 - val_loss: 0.2787\n",
      "Epoch 45/50\n",
      "\u001b[1m469/469\u001b[0m \u001b[32m━━━━━━━━━━━━━━━━━━━━\u001b[0m\u001b[37m\u001b[0m \u001b[1m1s\u001b[0m 2ms/step - loss: 0.2675 - val_loss: 0.2731\n",
      "Epoch 46/50\n",
      "\u001b[1m469/469\u001b[0m \u001b[32m━━━━━━━━━━━━━━━━━━━━\u001b[0m\u001b[37m\u001b[0m \u001b[1m1s\u001b[0m 3ms/step - loss: 0.2682 - val_loss: 0.2828\n",
      "Epoch 47/50\n",
      "\u001b[1m469/469\u001b[0m \u001b[32m━━━━━━━━━━━━━━━━━━━━\u001b[0m\u001b[37m\u001b[0m \u001b[1m1s\u001b[0m 3ms/step - loss: 0.2729 - val_loss: 0.2782\n",
      "Epoch 48/50\n",
      "\u001b[1m469/469\u001b[0m \u001b[32m━━━━━━━━━━━━━━━━━━━━\u001b[0m\u001b[37m\u001b[0m \u001b[1m1s\u001b[0m 2ms/step - loss: 0.2680 - val_loss: 0.2780\n",
      "Epoch 49/50\n",
      "\u001b[1m469/469\u001b[0m \u001b[32m━━━━━━━━━━━━━━━━━━━━\u001b[0m\u001b[37m\u001b[0m \u001b[1m1s\u001b[0m 3ms/step - loss: 0.2680 - val_loss: 0.2787\n",
      "Epoch 50/50\n",
      "\u001b[1m469/469\u001b[0m \u001b[32m━━━━━━━━━━━━━━━━━━━━\u001b[0m\u001b[37m\u001b[0m \u001b[1m1s\u001b[0m 3ms/step - loss: 0.2665 - val_loss: 0.2732\n"
     ]
    },
    {
     "data": {
      "text/plain": [
       "<keras.src.callbacks.history.History at 0x20aa2fa3560>"
      ]
     },
     "execution_count": 19,
     "metadata": {},
     "output_type": "execute_result"
    }
   ],
   "source": [
    "# Compile the model\n",
    "shipment_nn_model.compile(optimizer='adam', loss='mse')\n",
    "# Train the model\n",
    "shipment_nn_model.fit(shipmentX_train, shipmenty_train, epochs=50, batch_size=32, validation_split=0.2)"
   ]
  },
  {
   "cell_type": "markdown",
   "id": "7dda66cd-2c2e-49f1-8878-78acaff9b54e",
   "metadata": {},
   "source": [
    "## Evaluate the performance of the models"
   ]
  },
  {
   "cell_type": "code",
   "execution_count": 21,
   "id": "8a2e51f5-881c-4ec5-a850-5f9c172e303a",
   "metadata": {},
   "outputs": [
    {
     "name": "stdout",
     "output_type": "stream",
     "text": [
      "\u001b[1m196/196\u001b[0m \u001b[32m━━━━━━━━━━━━━━━━━━━━\u001b[0m\u001b[37m\u001b[0m \u001b[1m0s\u001b[0m 2ms/step - loss: 0.2749\n",
      "Mean Squared Error: 0.2766462564468384\n"
     ]
    }
   ],
   "source": [
    "shipment_loss = shipment_nn_model.evaluate(shipmentX_test, shipmenty_test)\n",
    "\n",
    "print(f'Mean Squared Error: {shipment_loss}')"
   ]
  },
  {
   "cell_type": "markdown",
   "id": "523b1e51-56b9-40d8-a510-e5bb2e7552bf",
   "metadata": {},
   "source": [
    "## Conclusion\n",
    "\n",
    "### Methods Used:\n",
    "\n",
    "* Built 3-layer Sequential model (64-32-1 neurons)\n",
    "* Used Adam optimizer and MSE loss\n",
    "* Trained for 50 epochs (batch_size=32)\n",
    "\n",
    "\n",
    "### Results: Achieved MSE: 0.276\n",
    "\n",
    "* The result is Comparable to Random Forest regression and gradient boosters MSE in Project 3\n",
    "* Slight improvement over the gradient boosting and Random Forest models\n",
    "* Performed slightly lower than the gradient boosters\n",
    "* Potential underfitting observed\n",
    "\n",
    "### Improvement Suggestions:\n",
    "\n",
    "* I may need to add dropout layers for regularization\n",
    "* Implement early stopping to prevent overfitting\n",
    "* And experiment with different activation functions"
   ]
  },
  {
   "cell_type": "code",
   "execution_count": null,
   "id": "09bda706-aec2-41ab-b4b8-3d7bf2a122ca",
   "metadata": {},
   "outputs": [],
   "source": []
  }
 ],
 "metadata": {
  "kernelspec": {
   "display_name": "Python 3 (ipykernel)",
   "language": "python",
   "name": "python3"
  },
  "language_info": {
   "codemirror_mode": {
    "name": "ipython",
    "version": 3
   },
   "file_extension": ".py",
   "mimetype": "text/x-python",
   "name": "python",
   "nbconvert_exporter": "python",
   "pygments_lexer": "ipython3",
   "version": "3.12.3"
  }
 },
 "nbformat": 4,
 "nbformat_minor": 5
}
