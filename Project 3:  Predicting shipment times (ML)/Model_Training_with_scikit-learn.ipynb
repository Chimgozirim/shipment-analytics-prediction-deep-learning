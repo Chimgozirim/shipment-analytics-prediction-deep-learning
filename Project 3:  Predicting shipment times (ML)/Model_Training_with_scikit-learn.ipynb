{
 "cells": [
  {
   "cell_type": "markdown",
   "id": "74572e3f-9f0e-4c2e-8e76-f50701f77409",
   "metadata": {},
   "source": [
    "## Project 3:  Model Training with scikit-learn\n",
    "\n",
    "### **Objective:**:\n",
    "\n",
    "* #### Train a machine learning model to predict shipment times.\n",
    "\n",
    "### **Some methods to apply**:\n",
    "\n",
    "1. Feature Engineering\n",
    "2. Split the dataset into training and testing sets.\n",
    "3. Normalize numerical features.\n",
    "4. Train a regression model.\n",
    "5. Evaluate the model's performance."
   ]
  },
  {
   "cell_type": "markdown",
   "id": "cd23974f-0098-40c5-9c03-1c134f7bb7e7",
   "metadata": {},
   "source": [
    "## Import necessary labraries and frameworks."
   ]
  },
  {
   "cell_type": "code",
   "execution_count": 3,
   "id": "f6fbc744-89da-4832-a91c-094dcad784dc",
   "metadata": {},
   "outputs": [],
   "source": [
    "import pandas as pd\n",
    "import matplotlib.pyplot as plt\n",
    "import seaborn as sns\n",
    "import numpy as np\n",
    "\n",
    "from sklearn.model_selection import train_test_split\n",
    "from sklearn.linear_model import LinearRegression\n",
    "from sklearn.ensemble import RandomForestRegressor\n",
    "from sklearn.svm import SVR\n",
    "from sklearn.metrics import mean_squared_error\n",
    "from sklearn.preprocessing import StandardScaler\n",
    "\n",
    "from lightgbm import LGBMRegressor\n",
    "from xgboost import XGBRegressor "
   ]
  },
  {
   "cell_type": "markdown",
   "id": "d59c41ac-9e07-4d8e-a7eb-e3262e6a7d68",
   "metadata": {},
   "source": [
    "# Read the CSV file."
   ]
  },
  {
   "cell_type": "code",
   "execution_count": 5,
   "id": "cc7a2538-4fc3-40e1-a31e-cf4fa0c03353",
   "metadata": {},
   "outputs": [],
   "source": [
    "shipment_df = pd.read_csv('shipment_df.csv')"
   ]
  },
  {
   "cell_type": "code",
   "execution_count": 6,
   "id": "cdf1713a-d224-43c1-92f1-4161052389ae",
   "metadata": {},
   "outputs": [],
   "source": [
    "#pd.get_dummies(shipment_df['transportation_modes'], drop_first=True)\n",
    "#pd.get_dummies(shipment_df['location'], drop_first=True)\n",
    "shipment_df = pd.get_dummies(shipment_df, columns=['transportation_modes', 'location', 'routes'], drop_first=True).astype('int64')"
   ]
  },
  {
   "cell_type": "markdown",
   "id": "184b92ed-ba90-4e53-9e48-3a31a2033368",
   "metadata": {},
   "source": [
    "## Feature Engineering\n",
    "#### Normalize numerical features"
   ]
  },
  {
   "cell_type": "code",
   "execution_count": 8,
   "id": "3726be89-add2-49dc-ad3d-417264cbc702",
   "metadata": {},
   "outputs": [],
   "source": [
    "# 1) Identify your target(s) and features\n",
    "shipmenty = 'shipping_times'\n",
    "shipmentX = shipment_df.drop(columns=[shipmenty])\n",
    "\n",
    "# 2) Select only the numeric columns in the features\n",
    "num_cols = shipmentX.select_dtypes(include=['int64', 'float64']).columns\n",
    "#    (this will pick up your distance, count, and one-hot dummy columns too)\n",
    "\n",
    "# 3) Fit & transform only those numeric columns\n",
    "scaler = StandardScaler()\n",
    "shipmentX[num_cols] = scaler.fit_transform(shipmentX[num_cols])\n",
    "\n",
    "shipmentX_scaled = shipmentX\n",
    "shipmenty = shipment_df[shipmenty]"
   ]
  },
  {
   "cell_type": "markdown",
   "id": "e21ffed2-28f9-4104-b251-cd6d2feadfd5",
   "metadata": {},
   "source": [
    "## Model training"
   ]
  },
  {
   "cell_type": "markdown",
   "id": "63e7b569-694f-4cbd-9a76-f0eb6b4a1ad0",
   "metadata": {},
   "source": [
    "### Train three regression models from sci-kit learn.\n",
    "- LinearRegression\n",
    "- RandomForestRegressor\n",
    "- SVR"
   ]
  },
  {
   "cell_type": "markdown",
   "id": "9056056c-4b5d-4c25-971e-225140b65fd9",
   "metadata": {},
   "source": [
    "## Split the dataset"
   ]
  },
  {
   "cell_type": "code",
   "execution_count": 12,
   "id": "9eb696f2-ee88-453a-be1f-242278f1e15c",
   "metadata": {},
   "outputs": [],
   "source": [
    "shipmentX_train, shipmentX_test, shipmenty_train, shipmenty_test = train_test_split(shipmentX_scaled, shipmenty, test_size=0.25, random_state=30)"
   ]
  },
  {
   "cell_type": "markdown",
   "id": "5cee6ae1-cab6-4e74-90d4-b16bdc543bc2",
   "metadata": {},
   "source": [
    "## Train the Linear Regression mode"
   ]
  },
  {
   "cell_type": "code",
   "execution_count": 14,
   "id": "6c9dfa77-a5dc-4530-9485-76743a7a6faf",
   "metadata": {},
   "outputs": [],
   "source": [
    "shipmentLinear_model = LinearRegression()\n",
    "shipmentLinear_model.fit(shipmentX_train, shipmenty_train)\n",
    "shipmentlinear_y_pred = shipmentLinear_model.predict(shipmentX_test)\n",
    "shipment_linear_mse = mean_squared_error(shipmenty_test, shipmentlinear_y_pred)\n",
    "shipment_linear_score = shipmentLinear_model.score(shipmentX_test, shipmenty_test)"
   ]
  },
  {
   "cell_type": "markdown",
   "id": "bc4a05e5-e476-409f-9b9f-bb1d5c06526b",
   "metadata": {},
   "source": [
    "## Random Forest Regression model"
   ]
  },
  {
   "cell_type": "code",
   "execution_count": 16,
   "id": "9b222a43-ced7-4bbd-8bb5-3124daabd120",
   "metadata": {},
   "outputs": [],
   "source": [
    "shipmentforest_model = RandomForestRegressor()\n",
    "shipmentforest_model.fit(shipmentX_train, shipmenty_train)\n",
    "shipmentforest_y_pred = shipmentforest_model.predict(shipmentX_test)\n",
    "shipment_forest_mse = mean_squared_error(shipmenty_test, shipmentforest_y_pred)\n",
    "shipment_forest_score = shipmentforest_model.score(shipmentX_test, shipmenty_test)"
   ]
  },
  {
   "cell_type": "markdown",
   "id": "7966d3c4-e89d-49ce-a7eb-80a6821d2d0c",
   "metadata": {},
   "source": [
    "## SVR model"
   ]
  },
  {
   "cell_type": "code",
   "execution_count": 38,
   "id": "30d34de2-fc51-4f72-9c91-bd111360d188",
   "metadata": {},
   "outputs": [],
   "source": [
    "shipmentsvr_model = SVR(kernel='rbf', C=10, epsilon=0.1)\n",
    "shipmentsvr_model.fit(shipmentX_train, shipmenty_train)\n",
    "shipmenty_pred_svr = shipmentsvr_model.predict(shipmentX_test)\n",
    "shipment_mse_svr = mean_squared_error(shipmenty_test, shipmenty_pred_svr)\n",
    "shipmentsvr_score = shipmentsvr_model.score(shipmentX_test, shipmenty_test)"
   ]
  },
  {
   "cell_type": "code",
   "execution_count": 48,
   "id": "fbf701f5-2c7c-4804-a8a0-bdf471b0e4fc",
   "metadata": {},
   "outputs": [],
   "source": [
    "#from sklearn.svm import LinearSVR\n",
    "\n",
    "\n",
    "#shipmentsvr_linear_model = LinearSVR(C=10, epsilon=0.1, max_iter=10000)\n",
    "#shipmentsvr_linear_model.fit(shipmentX_train, shipmenty_train)\n",
    "#shipmenty_pred_Lsvr = shipmentsvr_linear_model.predict(shipmentX_test)\n",
    "#shipment_mse_Lsvr = mean_squared_error(shipmenty_test, shipmenty_pred_Lsvr)\n",
    "#shipmentLsvr_score = shipmentsvr_linear_model.score(shipmentX_test, shipmenty_test)\n"
   ]
  },
  {
   "cell_type": "markdown",
   "id": "8c029b56-2650-4c31-949a-fb7836946049",
   "metadata": {},
   "source": [
    "## LGBMRegressor"
   ]
  },
  {
   "cell_type": "code",
   "execution_count": 20,
   "id": "932dc80b-5f9f-4952-b1b6-8db1657fec2c",
   "metadata": {},
   "outputs": [
    {
     "name": "stdout",
     "output_type": "stream",
     "text": [
      "[LightGBM] [Warning] Found whitespace in feature_names, replace with underlines\n",
      "[LightGBM] [Info] Auto-choosing row-wise multi-threading, the overhead of testing was 0.001625 seconds.\n",
      "You can set `force_row_wise=true` to remove the overhead.\n",
      "And if memory is not enough, you can set `force_col_wise=true`.\n",
      "[LightGBM] [Info] Total Bins 537\n",
      "[LightGBM] [Info] Number of data points in the train set: 18750, number of used features: 11\n",
      "[LightGBM] [Info] Start training from score 3.298827\n"
     ]
    }
   ],
   "source": [
    "shipmentlgbm_model = LGBMRegressor(n_estimators=5, learning_rate=0.6, max_depth=7, random_state=32)\n",
    "shipmentlgbm_model.fit(shipmentX_train, shipmenty_train)\n",
    "shipmenty_pred_lgbm = shipmentlgbm_model.predict(shipmentX_test)\n",
    "shipment_mse_lgbm = mean_squared_error(shipmenty_test, shipmenty_pred_lgbm)\n",
    "shipment_LightGBM_score = shipmentlgbm_model.score(shipmentX_test, shipmenty_test)"
   ]
  },
  {
   "cell_type": "markdown",
   "id": "71c73494-c392-4c52-b5b6-a608afdc64f5",
   "metadata": {},
   "source": [
    "## XGBRegressor"
   ]
  },
  {
   "cell_type": "code",
   "execution_count": 22,
   "id": "e5b5f09a-0a45-45d2-800f-0da31dfe8447",
   "metadata": {},
   "outputs": [],
   "source": [
    "shipmentxgb_model = XGBRegressor(n_estimators=100, learning_rate=0.1, max_depth=5, random_state=32)\n",
    "shipmentxgb_model.fit(shipmentX_train, shipmenty_train)\n",
    "shipmenty_pred_xgb = shipmentxgb_model.predict(shipmentX_test)\n",
    "shipment_mse_xgb = mean_squared_error(shipmenty_test, shipmenty_pred_xgb)\n",
    "shipment_XGBoost_score = shipmentxgb_model.score(shipmentX_test, shipmenty_test)"
   ]
  },
  {
   "cell_type": "markdown",
   "id": "7dda66cd-2c2e-49f1-8878-78acaff9b54e",
   "metadata": {},
   "source": [
    "## Evaluate the performance of the models"
   ]
  },
  {
   "cell_type": "code",
   "execution_count": 52,
   "id": "8a2e51f5-881c-4ec5-a850-5f9c172e303a",
   "metadata": {},
   "outputs": [
    {
     "name": "stdout",
     "output_type": "stream",
     "text": [
      "Linear MSE: 0.7589074944754644\n",
      "Random Forest MSE: 0.28235580107999997\n",
      "SVR MSE: 0.3451066719021983\n",
      "\n",
      "LightGBM MSE: 0.25328209362607923\n",
      "XGBoost MSE: 0.25490039587020874\n",
      "----------------------------------------------------------------\n",
      "\n",
      "Accuracy\n",
      "\n",
      "Linear Accuracy: 0.7794240092156309\n",
      "Random Forest Accuracy: 0.9179334622067713\n",
      "SVR Accuracy: 0.8996949606700918\n",
      "\n",
      "LightGBM Accuracy: 0.9263837171773799\n",
      "XGBoost Accuracy: 0.9259133338928223\n"
     ]
    }
   ],
   "source": [
    "# Evaluate the model\n",
    "print(f'Linear MSE: {shipment_linear_mse}')\n",
    "print(f'Random Forest MSE: {shipment_forest_mse}')\n",
    "print(f'SVR MSE: {shipment_mse_svr}\\n')\n",
    "#print(f'Linear SVR MSE: {shipment_mse_Lsvr}\\n')\n",
    "print(f'LightGBM MSE: {shipment_mse_lgbm}')\n",
    "print(f'XGBoost MSE: {shipment_mse_xgb}')\n",
    "\n",
    "print('-' * 64 + '\\n')\n",
    "\n",
    "print(\"Accuracy\\n\")\n",
    "print(f'Linear Accuracy: {shipment_linear_score}')\n",
    "print(f'Random Forest Accuracy: {shipment_forest_score}')\n",
    "print(f'SVR Accuracy: {shipmentsvr_score}\\n')\n",
    "#print(f'Linear SVR MSE: {shipmentLsvr_score}\\n')\n",
    "\n",
    "print(f'LightGBM Accuracy: {shipment_LightGBM_score}')\n",
    "print(f'XGBoost Accuracy: {shipment_XGBoost_score}')"
   ]
  },
  {
   "cell_type": "markdown",
   "id": "523b1e51-56b9-40d8-a510-e5bb2e7552bf",
   "metadata": {},
   "source": [
    "## Conclusion\n",
    "\n",
    "### Some methods Used for Project 3:\n",
    "\n",
    "* Split data (75% train, 25% test)\n",
    "* Trained LinearRegression, RandomForestRegressor, SVR models, XGBRegressor, and LGBMRegressor\n",
    "* Evaluated with each model's MSE\n",
    "\n",
    "### Results: Random Forest achieved MSE: 0.283\n",
    "\n",
    "* #### Strong performance achieved.\n",
    "* #### The Gradient Boosters are currently the best performer without hyperparameter tuning on the other models\n",
    "* #### The low MSE for Random Forest and the gradient boosting regressors reflects a high level of predictive accuracy.\n",
    "* The LGBMRegressor and XGBRegressor achieved the lowest errors (MSE = 0.2532 and 0.2549), indicating they best capture complex interactions.\n",
    "* RandomForestRegressor and SVR followed with moderate errors (MSE = 0.2831 and 0.3518), showing some non-linear patterns learned.\n",
    "* Linear Regression had the highest error (MSE = 0.7589), suggesting it underfits non-linear relationships.\n",
    "\n",
    "\n",
    "### Possible methods for improvement:\n",
    "\n",
    "* I strongly believe the selected features are impacting the results more than the algorithms.\n",
    "* Random Forest model's performance improves with better feature selection\n",
    "* I may try polynomial features for a non-linear relationship.\n",
    "* Use cross-validation for more reliable metrics.\n",
    "* Apply hyperparameter tuning using GridSearchCV or RandomSearchCV"
   ]
  },
  {
   "cell_type": "code",
   "execution_count": null,
   "id": "09bda706-aec2-41ab-b4b8-3d7bf2a122ca",
   "metadata": {},
   "outputs": [],
   "source": []
  }
 ],
 "metadata": {
  "kernelspec": {
   "display_name": "Python 3 (ipykernel)",
   "language": "python",
   "name": "python3"
  },
  "language_info": {
   "codemirror_mode": {
    "name": "ipython",
    "version": 3
   },
   "file_extension": ".py",
   "mimetype": "text/x-python",
   "name": "python",
   "nbconvert_exporter": "python",
   "pygments_lexer": "ipython3",
   "version": "3.12.3"
  }
 },
 "nbformat": 4,
 "nbformat_minor": 5
}
