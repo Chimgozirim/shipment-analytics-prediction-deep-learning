{
 "cells": [
  {
   "cell_type": "markdown",
   "id": "0213bc11-4903-474a-a09c-a4661c80eb9e",
   "metadata": {},
   "source": [
    "## Project 1: Data Preprocessing.\n",
    "\n",
    "### **Objective:**:\n",
    "\n",
    "* #### Clean and preprocess a dataset for shipment times and routes.\n",
    "\n",
    "### **Some methods to apply**:\n",
    "1. Load the dataset from a CSV file.\n",
    "2. Handle missing values appropriately.\n",
    "3. Encode categorical variables.\n",
    "4. Normalize numerical features."
   ]
  },
  {
   "cell_type": "code",
   "execution_count": 4,
   "id": "584bf9bd-d538-44f9-83bd-f395da17a8e4",
   "metadata": {},
   "outputs": [],
   "source": [
    "import pandas as pd\n",
    "import numpy as np"
   ]
  },
  {
   "cell_type": "code",
   "execution_count": 5,
   "id": "fbf91a68-5512-4d8d-84cc-556620fdf78d",
   "metadata": {},
   "outputs": [],
   "source": [
    "pd.set_option(\"display.max_columns\",None)\n",
    "pd.set_option(\"display.max_rows\",None)"
   ]
  },
  {
   "cell_type": "code",
   "execution_count": 6,
   "id": "f6675ed1-6b8b-45cf-ba38-028fbb22a73a",
   "metadata": {},
   "outputs": [],
   "source": [
    "ShipData = pd.read_csv(\"ShipmentData.csv\")"
   ]
  },
  {
   "cell_type": "markdown",
   "id": "ab9a3209-6864-49ef-8a26-3d692b9e968e",
   "metadata": {},
   "source": [
    "#### This was an original supply chain data from Kaggle.  I had the dataset Extrapolated to 25k+ records by filling in likely future (or past) values based on patterns observed with an addition of a distance column for future deep learning works."
   ]
  },
  {
   "cell_type": "code",
   "execution_count": 8,
   "id": "5c79458e-830a-40be-ac14-f0ca8c1b34af",
   "metadata": {},
   "outputs": [
    {
     "name": "stdout",
     "output_type": "stream",
     "text": [
      "(25000, 25)\n"
     ]
    },
    {
     "data": {
      "text/html": [
       "<div>\n",
       "<style scoped>\n",
       "    .dataframe tbody tr th:only-of-type {\n",
       "        vertical-align: middle;\n",
       "    }\n",
       "\n",
       "    .dataframe tbody tr th {\n",
       "        vertical-align: top;\n",
       "    }\n",
       "\n",
       "    .dataframe thead th {\n",
       "        text-align: right;\n",
       "    }\n",
       "</style>\n",
       "<table border=\"1\" class=\"dataframe\">\n",
       "  <thead>\n",
       "    <tr style=\"text-align: right;\">\n",
       "      <th></th>\n",
       "      <th>Product type</th>\n",
       "      <th>SKU</th>\n",
       "      <th>Price</th>\n",
       "      <th>Availability</th>\n",
       "      <th>Number of products sold</th>\n",
       "      <th>Revenue generated</th>\n",
       "      <th>Customer demographics</th>\n",
       "      <th>Stock levels</th>\n",
       "      <th>Lead times</th>\n",
       "      <th>Order quantities</th>\n",
       "      <th>Shipping times</th>\n",
       "      <th>Shipping carriers</th>\n",
       "      <th>Shipping costs</th>\n",
       "      <th>Supplier name</th>\n",
       "      <th>Location</th>\n",
       "      <th>Lead time</th>\n",
       "      <th>Production volumes</th>\n",
       "      <th>Manufacturing lead time</th>\n",
       "      <th>Manufacturing costs</th>\n",
       "      <th>Inspection results</th>\n",
       "      <th>Defect rates</th>\n",
       "      <th>Transportation modes</th>\n",
       "      <th>Routes</th>\n",
       "      <th>Costs</th>\n",
       "      <th>Distance (km)</th>\n",
       "    </tr>\n",
       "  </thead>\n",
       "  <tbody>\n",
       "    <tr>\n",
       "      <th>0</th>\n",
       "      <td>skincare</td>\n",
       "      <td>SKU0</td>\n",
       "      <td>69.02</td>\n",
       "      <td>0</td>\n",
       "      <td>254</td>\n",
       "      <td>19937.77</td>\n",
       "      <td>Unknown</td>\n",
       "      <td>94</td>\n",
       "      <td>25</td>\n",
       "      <td>92</td>\n",
       "      <td>3</td>\n",
       "      <td>Carrier B</td>\n",
       "      <td>674.73</td>\n",
       "      <td>Supplier 5</td>\n",
       "      <td>Mumbai</td>\n",
       "      <td>11</td>\n",
       "      <td>739</td>\n",
       "      <td>24</td>\n",
       "      <td>1.97</td>\n",
       "      <td>Fail</td>\n",
       "      <td>2.73</td>\n",
       "      <td>Air</td>\n",
       "      <td>Route B</td>\n",
       "      <td>413.86</td>\n",
       "      <td>1016</td>\n",
       "    </tr>\n",
       "    <tr>\n",
       "      <th>1</th>\n",
       "      <td>haircare</td>\n",
       "      <td>SKU1</td>\n",
       "      <td>96.01</td>\n",
       "      <td>18</td>\n",
       "      <td>510</td>\n",
       "      <td>52220.92</td>\n",
       "      <td>Male</td>\n",
       "      <td>84</td>\n",
       "      <td>17</td>\n",
       "      <td>42</td>\n",
       "      <td>4</td>\n",
       "      <td>Carrier C</td>\n",
       "      <td>247.07</td>\n",
       "      <td>Supplier 1</td>\n",
       "      <td>Mumbai</td>\n",
       "      <td>22</td>\n",
       "      <td>293</td>\n",
       "      <td>21</td>\n",
       "      <td>62.02</td>\n",
       "      <td>Pending</td>\n",
       "      <td>0.79</td>\n",
       "      <td>Rail</td>\n",
       "      <td>Route C</td>\n",
       "      <td>490.68</td>\n",
       "      <td>967</td>\n",
       "    </tr>\n",
       "    <tr>\n",
       "      <th>2</th>\n",
       "      <td>cosmetics</td>\n",
       "      <td>SKU2</td>\n",
       "      <td>26.60</td>\n",
       "      <td>62</td>\n",
       "      <td>177</td>\n",
       "      <td>5081.47</td>\n",
       "      <td>Male</td>\n",
       "      <td>90</td>\n",
       "      <td>4</td>\n",
       "      <td>51</td>\n",
       "      <td>3</td>\n",
       "      <td>Carrier A</td>\n",
       "      <td>663.83</td>\n",
       "      <td>Supplier 5</td>\n",
       "      <td>Mumbai</td>\n",
       "      <td>11</td>\n",
       "      <td>86</td>\n",
       "      <td>29</td>\n",
       "      <td>11.98</td>\n",
       "      <td>Pass</td>\n",
       "      <td>3.42</td>\n",
       "      <td>Air</td>\n",
       "      <td>Route A</td>\n",
       "      <td>867.51</td>\n",
       "      <td>1011</td>\n",
       "    </tr>\n",
       "    <tr>\n",
       "      <th>3</th>\n",
       "      <td>cosmetics</td>\n",
       "      <td>SKU3</td>\n",
       "      <td>76.59</td>\n",
       "      <td>68</td>\n",
       "      <td>195</td>\n",
       "      <td>17142.99</td>\n",
       "      <td>Unknown</td>\n",
       "      <td>90</td>\n",
       "      <td>4</td>\n",
       "      <td>22</td>\n",
       "      <td>4</td>\n",
       "      <td>Carrier A</td>\n",
       "      <td>268.11</td>\n",
       "      <td>Supplier 4</td>\n",
       "      <td>Chennai</td>\n",
       "      <td>29</td>\n",
       "      <td>914</td>\n",
       "      <td>26</td>\n",
       "      <td>23.99</td>\n",
       "      <td>Pending</td>\n",
       "      <td>4.80</td>\n",
       "      <td>Rail</td>\n",
       "      <td>Route A</td>\n",
       "      <td>600.23</td>\n",
       "      <td>1039</td>\n",
       "    </tr>\n",
       "    <tr>\n",
       "      <th>4</th>\n",
       "      <td>haircare</td>\n",
       "      <td>SKU4</td>\n",
       "      <td>89.51</td>\n",
       "      <td>1</td>\n",
       "      <td>281</td>\n",
       "      <td>27986.87</td>\n",
       "      <td>Male</td>\n",
       "      <td>11</td>\n",
       "      <td>26</td>\n",
       "      <td>40</td>\n",
       "      <td>7</td>\n",
       "      <td>Carrier A</td>\n",
       "      <td>162.01</td>\n",
       "      <td>Supplier 5</td>\n",
       "      <td>Kolkata</td>\n",
       "      <td>12</td>\n",
       "      <td>838</td>\n",
       "      <td>23</td>\n",
       "      <td>72.95</td>\n",
       "      <td>Fail</td>\n",
       "      <td>2.21</td>\n",
       "      <td>Sea</td>\n",
       "      <td>Route B</td>\n",
       "      <td>105.88</td>\n",
       "      <td>1058</td>\n",
       "    </tr>\n",
       "  </tbody>\n",
       "</table>\n",
       "</div>"
      ],
      "text/plain": [
       "  Product type   SKU  Price  Availability  Number of products sold  \\\n",
       "0     skincare  SKU0  69.02             0                      254   \n",
       "1     haircare  SKU1  96.01            18                      510   \n",
       "2    cosmetics  SKU2  26.60            62                      177   \n",
       "3    cosmetics  SKU3  76.59            68                      195   \n",
       "4     haircare  SKU4  89.51             1                      281   \n",
       "\n",
       "   Revenue generated Customer demographics  Stock levels  Lead times  \\\n",
       "0           19937.77               Unknown            94          25   \n",
       "1           52220.92                  Male            84          17   \n",
       "2            5081.47                  Male            90           4   \n",
       "3           17142.99               Unknown            90           4   \n",
       "4           27986.87                  Male            11          26   \n",
       "\n",
       "   Order quantities  Shipping times Shipping carriers  Shipping costs  \\\n",
       "0                92               3         Carrier B          674.73   \n",
       "1                42               4         Carrier C          247.07   \n",
       "2                51               3         Carrier A          663.83   \n",
       "3                22               4         Carrier A          268.11   \n",
       "4                40               7         Carrier A          162.01   \n",
       "\n",
       "  Supplier name Location  Lead time  Production volumes  \\\n",
       "0    Supplier 5   Mumbai         11                 739   \n",
       "1    Supplier 1   Mumbai         22                 293   \n",
       "2    Supplier 5   Mumbai         11                  86   \n",
       "3    Supplier 4  Chennai         29                 914   \n",
       "4    Supplier 5  Kolkata         12                 838   \n",
       "\n",
       "   Manufacturing lead time  Manufacturing costs Inspection results  \\\n",
       "0                       24                 1.97               Fail   \n",
       "1                       21                62.02            Pending   \n",
       "2                       29                11.98               Pass   \n",
       "3                       26                23.99            Pending   \n",
       "4                       23                72.95               Fail   \n",
       "\n",
       "   Defect rates Transportation modes   Routes   Costs  Distance (km)  \n",
       "0          2.73                  Air  Route B  413.86           1016  \n",
       "1          0.79                 Rail  Route C  490.68            967  \n",
       "2          3.42                  Air  Route A  867.51           1011  \n",
       "3          4.80                 Rail  Route A  600.23           1039  \n",
       "4          2.21                  Sea  Route B  105.88           1058  "
      ]
     },
     "execution_count": 8,
     "metadata": {},
     "output_type": "execute_result"
    }
   ],
   "source": [
    "print(ShipData.shape)\n",
    "ShipData.head(5)"
   ]
  },
  {
   "cell_type": "markdown",
   "id": "e9fc6b3a-73d2-4927-a397-ac261a9268cd",
   "metadata": {},
   "source": [
    "### Normalize column names\n"
   ]
  },
  {
   "cell_type": "code",
   "execution_count": 12,
   "id": "b6e8a9e5-0c1c-4bf8-a1e3-ae862e5f258b",
   "metadata": {},
   "outputs": [],
   "source": [
    "ShipData.columns = ShipData.columns.str.lower().str.strip().str.replace(' ', '_')"
   ]
  },
  {
   "cell_type": "markdown",
   "id": "4ff775d1-c550-47cf-8b9e-48bf54bb92e5",
   "metadata": {},
   "source": [
    "### Find and handle missing values if any."
   ]
  },
  {
   "cell_type": "code",
   "execution_count": 14,
   "id": "73e56454-d5a2-4efd-a1d6-581d5a7df128",
   "metadata": {},
   "outputs": [
    {
     "data": {
      "text/plain": [
       "product_type               0\n",
       "sku                        0\n",
       "price                      0\n",
       "availability               0\n",
       "number_of_products_sold    0\n",
       "revenue_generated          0\n",
       "customer_demographics      0\n",
       "stock_levels               0\n",
       "lead_times                 0\n",
       "order_quantities           0\n",
       "shipping_times             0\n",
       "shipping_carriers          0\n",
       "shipping_costs             0\n",
       "supplier_name              0\n",
       "location                   0\n",
       "lead_time                  0\n",
       "production_volumes         0\n",
       "manufacturing_lead_time    0\n",
       "manufacturing_costs        0\n",
       "inspection_results         0\n",
       "defect_rates               0\n",
       "transportation_modes       0\n",
       "routes                     0\n",
       "costs                      0\n",
       "distance_(km)              0\n",
       "dtype: int64"
      ]
     },
     "execution_count": 14,
     "metadata": {},
     "output_type": "execute_result"
    }
   ],
   "source": [
    "ShipData.isnull().sum()"
   ]
  },
  {
   "cell_type": "markdown",
   "id": "4bedeee9-7ec9-4f0c-ae50-8b529a9348d0",
   "metadata": {},
   "source": [
    "### Find and handle duplicates if any."
   ]
  },
  {
   "cell_type": "code",
   "execution_count": 16,
   "id": "a7e22fa1-661a-4bb6-bf38-53cd8d4051a8",
   "metadata": {},
   "outputs": [
    {
     "data": {
      "text/plain": [
       "False    25000\n",
       "Name: count, dtype: int64"
      ]
     },
     "execution_count": 16,
     "metadata": {},
     "output_type": "execute_result"
    }
   ],
   "source": [
    "ShipData.duplicated().value_counts()"
   ]
  },
  {
   "cell_type": "markdown",
   "id": "824eea0b-011f-48d9-a4d2-5354f5093982",
   "metadata": {},
   "source": [
    "### Check if each columns is in the right data type."
   ]
  },
  {
   "cell_type": "code",
   "execution_count": 18,
   "id": "b0551aec-3c36-4de7-821e-af2a53bb8bf9",
   "metadata": {},
   "outputs": [
    {
     "name": "stdout",
     "output_type": "stream",
     "text": [
      "<class 'pandas.core.frame.DataFrame'>\n",
      "RangeIndex: 25000 entries, 0 to 24999\n",
      "Data columns (total 25 columns):\n",
      " #   Column                   Non-Null Count  Dtype  \n",
      "---  ------                   --------------  -----  \n",
      " 0   product_type             25000 non-null  object \n",
      " 1   sku                      25000 non-null  object \n",
      " 2   price                    25000 non-null  float64\n",
      " 3   availability             25000 non-null  int64  \n",
      " 4   number_of_products_sold  25000 non-null  int64  \n",
      " 5   revenue_generated        25000 non-null  float64\n",
      " 6   customer_demographics    25000 non-null  object \n",
      " 7   stock_levels             25000 non-null  int64  \n",
      " 8   lead_times               25000 non-null  int64  \n",
      " 9   order_quantities         25000 non-null  int64  \n",
      " 10  shipping_times           25000 non-null  int64  \n",
      " 11  shipping_carriers        25000 non-null  object \n",
      " 12  shipping_costs           25000 non-null  float64\n",
      " 13  supplier_name            25000 non-null  object \n",
      " 14  location                 25000 non-null  object \n",
      " 15  lead_time                25000 non-null  int64  \n",
      " 16  production_volumes       25000 non-null  int64  \n",
      " 17  manufacturing_lead_time  25000 non-null  int64  \n",
      " 18  manufacturing_costs      25000 non-null  float64\n",
      " 19  inspection_results       25000 non-null  object \n",
      " 20  defect_rates             25000 non-null  float64\n",
      " 21  transportation_modes     25000 non-null  object \n",
      " 22  routes                   25000 non-null  object \n",
      " 23  costs                    25000 non-null  float64\n",
      " 24  distance_(km)            25000 non-null  int64  \n",
      "dtypes: float64(6), int64(10), object(9)\n",
      "memory usage: 4.8+ MB\n"
     ]
    }
   ],
   "source": [
    "ShipData.info()"
   ]
  },
  {
   "cell_type": "markdown",
   "id": "0b647434-2b93-4fe3-89a6-2d458c2505fa",
   "metadata": {},
   "source": [
    "### Methods Used for Project 1:\n",
    "\n",
    "* Loaded dataset with 25 features and 25k records\n",
    "* Verified no missing values or duplicates\n",
    "* Selected key features: Routes, Shipping times, Distance, etc.\n",
    "* Encoded categorical 'Routes' with LabelEncoder\n",
    "* Normalized numerical features with StandardScaler\n",
    "\n",
    "### Results:\n",
    "\n",
    "#### Successfully completed preprocessing with:\n",
    "\n",
    "* Clean dataset (no missing values/duplicates)\n",
    "* Normalized column names\n",
    "\n",
    "### Possible Improvement(s):\n",
    "\n",
    "* Implement ColumnTransformer for a unified preprocessing pipeline\n",
    "* Add feature correlation analysis before selection"
   ]
  }
 ],
 "metadata": {
  "kernelspec": {
   "display_name": "Python 3 (ipykernel)",
   "language": "python",
   "name": "python3"
  },
  "language_info": {
   "codemirror_mode": {
    "name": "ipython",
    "version": 3
   },
   "file_extension": ".py",
   "mimetype": "text/x-python",
   "name": "python",
   "nbconvert_exporter": "python",
   "pygments_lexer": "ipython3",
   "version": "3.12.3"
  }
 },
 "nbformat": 4,
 "nbformat_minor": 5
}
